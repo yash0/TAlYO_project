{
 "cells": [
  {
   "cell_type": "code",
   "execution_count": 119,
   "id": "b1189f05",
   "metadata": {},
   "outputs": [],
   "source": [
    "import pandas as pd\n",
    "import numpy as np\n",
    "import math\n",
    "from sklearn.preprocessing import LabelEncoder\n",
    "le = LabelEncoder()\n",
    "from scipy.stats import skew\n",
    "import matplotlib.pyplot as plt\n",
    "import seaborn as sns\n",
    "import warnings\n",
    "warnings.filterwarnings('ignore')"
   ]
  },
  {
   "cell_type": "code",
   "execution_count": 120,
   "id": "248423f2",
   "metadata": {},
   "outputs": [],
   "source": [
    "import nltk\n"
   ]
  },
  {
   "cell_type": "code",
   "execution_count": 121,
   "id": "6ddf80d5",
   "metadata": {},
   "outputs": [],
   "source": [
    "df = pd.read_excel(r\"C:/Users/Yash/Downloads/World_Bank_Projects_downloaded_6_15_2022.xls\",)"
   ]
  },
  {
   "cell_type": "code",
   "execution_count": 122,
   "id": "08a8f0e5",
   "metadata": {},
   "outputs": [
    {
     "data": {
      "text/html": [
       "<div>\n",
       "<style scoped>\n",
       "    .dataframe tbody tr th:only-of-type {\n",
       "        vertical-align: middle;\n",
       "    }\n",
       "\n",
       "    .dataframe tbody tr th {\n",
       "        vertical-align: top;\n",
       "    }\n",
       "\n",
       "    .dataframe thead th {\n",
       "        text-align: right;\n",
       "    }\n",
       "</style>\n",
       "<table border=\"1\" class=\"dataframe\">\n",
       "  <thead>\n",
       "    <tr style=\"text-align: right;\">\n",
       "      <th></th>\n",
       "      <th>Project_Status</th>\n",
       "      <th>Project_Objective</th>\n",
       "    </tr>\n",
       "  </thead>\n",
       "  <tbody>\n",
       "    <tr>\n",
       "      <th>0</th>\n",
       "      <td>Active</td>\n",
       "      <td>The Program Development Objective is to expand...</td>\n",
       "    </tr>\n",
       "    <tr>\n",
       "      <th>1</th>\n",
       "      <td>Active</td>\n",
       "      <td>The project will deliver sustainable climate r...</td>\n",
       "    </tr>\n",
       "    <tr>\n",
       "      <th>2</th>\n",
       "      <td>Dropped</td>\n",
       "      <td>To improve citizen and government access to co...</td>\n",
       "    </tr>\n",
       "    <tr>\n",
       "      <th>3</th>\n",
       "      <td>Pipeline</td>\n",
       "      <td>To increase utilization and quality of reprodu...</td>\n",
       "    </tr>\n",
       "    <tr>\n",
       "      <th>4</th>\n",
       "      <td>Pipeline</td>\n",
       "      <td>The project Development Objective (PDO) is \"to...</td>\n",
       "    </tr>\n",
       "  </tbody>\n",
       "</table>\n",
       "</div>"
      ],
      "text/plain": [
       "  Project_Status                                  Project_Objective\n",
       "0         Active  The Program Development Objective is to expand...\n",
       "1         Active  The project will deliver sustainable climate r...\n",
       "2        Dropped  To improve citizen and government access to co...\n",
       "3       Pipeline  To increase utilization and quality of reprodu...\n",
       "4       Pipeline  The project Development Objective (PDO) is \"to..."
      ]
     },
     "execution_count": 122,
     "metadata": {},
     "output_type": "execute_result"
    }
   ],
   "source": [
    "df.head(5)"
   ]
  },
  {
   "cell_type": "code",
   "execution_count": 123,
   "id": "8c014a20",
   "metadata": {},
   "outputs": [
    {
     "data": {
      "text/plain": [
       "(21543, 2)"
      ]
     },
     "execution_count": 123,
     "metadata": {},
     "output_type": "execute_result"
    }
   ],
   "source": [
    "df.shape"
   ]
  },
  {
   "cell_type": "code",
   "execution_count": 124,
   "id": "087d86af",
   "metadata": {},
   "outputs": [
    {
     "data": {
      "text/html": [
       "<div>\n",
       "<style scoped>\n",
       "    .dataframe tbody tr th:only-of-type {\n",
       "        vertical-align: middle;\n",
       "    }\n",
       "\n",
       "    .dataframe tbody tr th {\n",
       "        vertical-align: top;\n",
       "    }\n",
       "\n",
       "    .dataframe thead th {\n",
       "        text-align: right;\n",
       "    }\n",
       "</style>\n",
       "<table border=\"1\" class=\"dataframe\">\n",
       "  <thead>\n",
       "    <tr style=\"text-align: right;\">\n",
       "      <th></th>\n",
       "      <th>Project_Status</th>\n",
       "      <th>Project_Objective</th>\n",
       "    </tr>\n",
       "  </thead>\n",
       "  <tbody>\n",
       "    <tr>\n",
       "      <th>count</th>\n",
       "      <td>21538</td>\n",
       "      <td>11579</td>\n",
       "    </tr>\n",
       "    <tr>\n",
       "      <th>unique</th>\n",
       "      <td>4</td>\n",
       "      <td>9861</td>\n",
       "    </tr>\n",
       "    <tr>\n",
       "      <th>top</th>\n",
       "      <td>Closed</td>\n",
       "      <td>Project Development Objective (Note: will be d...</td>\n",
       "    </tr>\n",
       "    <tr>\n",
       "      <th>freq</th>\n",
       "      <td>15783</td>\n",
       "      <td>47</td>\n",
       "    </tr>\n",
       "  </tbody>\n",
       "</table>\n",
       "</div>"
      ],
      "text/plain": [
       "       Project_Status                                  Project_Objective\n",
       "count           21538                                              11579\n",
       "unique              4                                               9861\n",
       "top            Closed  Project Development Objective (Note: will be d...\n",
       "freq            15783                                                 47"
      ]
     },
     "execution_count": 124,
     "metadata": {},
     "output_type": "execute_result"
    }
   ],
   "source": [
    "df.describe()"
   ]
  },
  {
   "cell_type": "code",
   "execution_count": 125,
   "id": "2161e9f6",
   "metadata": {},
   "outputs": [
    {
     "data": {
      "text/plain": [
       "Project_Status          5\n",
       "Project_Objective    9964\n",
       "dtype: int64"
      ]
     },
     "execution_count": 125,
     "metadata": {},
     "output_type": "execute_result"
    }
   ],
   "source": [
    "df.isnull().sum()                             "
   ]
  },
  {
   "cell_type": "code",
   "execution_count": 126,
   "id": "091363c1",
   "metadata": {},
   "outputs": [],
   "source": [
    "df1 = df.dropna()                 #removing the null value"
   ]
  },
  {
   "cell_type": "code",
   "execution_count": 127,
   "id": "ce4aaafa",
   "metadata": {},
   "outputs": [
    {
     "data": {
      "text/plain": [
       "(11576, 2)"
      ]
     },
     "execution_count": 127,
     "metadata": {},
     "output_type": "execute_result"
    }
   ],
   "source": [
    "df1.shape"
   ]
  },
  {
   "cell_type": "code",
   "execution_count": 128,
   "id": "79721307",
   "metadata": {},
   "outputs": [
    {
     "data": {
      "text/html": [
       "<div>\n",
       "<style scoped>\n",
       "    .dataframe tbody tr th:only-of-type {\n",
       "        vertical-align: middle;\n",
       "    }\n",
       "\n",
       "    .dataframe tbody tr th {\n",
       "        vertical-align: top;\n",
       "    }\n",
       "\n",
       "    .dataframe thead th {\n",
       "        text-align: right;\n",
       "    }\n",
       "</style>\n",
       "<table border=\"1\" class=\"dataframe\">\n",
       "  <thead>\n",
       "    <tr style=\"text-align: right;\">\n",
       "      <th></th>\n",
       "      <th>Project_Status</th>\n",
       "      <th>Project_Objective</th>\n",
       "    </tr>\n",
       "  </thead>\n",
       "  <tbody>\n",
       "    <tr>\n",
       "      <th>count</th>\n",
       "      <td>11576</td>\n",
       "      <td>11576</td>\n",
       "    </tr>\n",
       "    <tr>\n",
       "      <th>unique</th>\n",
       "      <td>4</td>\n",
       "      <td>9858</td>\n",
       "    </tr>\n",
       "    <tr>\n",
       "      <th>top</th>\n",
       "      <td>Closed</td>\n",
       "      <td>Project Development Objective (Note: will be d...</td>\n",
       "    </tr>\n",
       "    <tr>\n",
       "      <th>freq</th>\n",
       "      <td>6500</td>\n",
       "      <td>47</td>\n",
       "    </tr>\n",
       "  </tbody>\n",
       "</table>\n",
       "</div>"
      ],
      "text/plain": [
       "       Project_Status                                  Project_Objective\n",
       "count           11576                                              11576\n",
       "unique              4                                               9858\n",
       "top            Closed  Project Development Objective (Note: will be d...\n",
       "freq             6500                                                 47"
      ]
     },
     "execution_count": 128,
     "metadata": {},
     "output_type": "execute_result"
    }
   ],
   "source": [
    "df1.describe()"
   ]
  },
  {
   "cell_type": "code",
   "execution_count": 129,
   "id": "10594dbf",
   "metadata": {},
   "outputs": [
    {
     "data": {
      "text/plain": [
       "Closed      6500\n",
       "Active      3062\n",
       "Dropped     1100\n",
       "Pipeline     914\n",
       "Name: Project_Status, dtype: int64"
      ]
     },
     "execution_count": 129,
     "metadata": {},
     "output_type": "execute_result"
    }
   ],
   "source": [
    "df1.Project_Status.value_counts()"
   ]
  },
  {
   "cell_type": "code",
   "execution_count": 130,
   "id": "7fa533c7",
   "metadata": {},
   "outputs": [
    {
     "data": {
      "text/plain": [
       "0        1408\n",
       "1         103\n",
       "2         276\n",
       "3         132\n",
       "4         191\n",
       "         ... \n",
       "21185     151\n",
       "21332     372\n",
       "21334     661\n",
       "21470     145\n",
       "21535     322\n",
       "Name: Project_Objective, Length: 11576, dtype: int64"
      ]
     },
     "execution_count": 130,
     "metadata": {},
     "output_type": "execute_result"
    }
   ],
   "source": [
    "d1 = df1.Project_Objective.apply(len)              #calculating the length of the sentences\n",
    "d1"
   ]
  },
  {
   "cell_type": "code",
   "execution_count": 131,
   "id": "4c6db663",
   "metadata": {},
   "outputs": [],
   "source": [
    "df1 = pd.concat([df1,d1],axis = 1)  "
   ]
  },
  {
   "cell_type": "code",
   "execution_count": 132,
   "id": "d8540dc2",
   "metadata": {},
   "outputs": [
    {
     "data": {
      "text/html": [
       "<div>\n",
       "<style scoped>\n",
       "    .dataframe tbody tr th:only-of-type {\n",
       "        vertical-align: middle;\n",
       "    }\n",
       "\n",
       "    .dataframe tbody tr th {\n",
       "        vertical-align: top;\n",
       "    }\n",
       "\n",
       "    .dataframe thead th {\n",
       "        text-align: right;\n",
       "    }\n",
       "</style>\n",
       "<table border=\"1\" class=\"dataframe\">\n",
       "  <thead>\n",
       "    <tr style=\"text-align: right;\">\n",
       "      <th></th>\n",
       "      <th>Project_Status</th>\n",
       "      <th>Project_Objective</th>\n",
       "      <th>Project_Objective</th>\n",
       "    </tr>\n",
       "  </thead>\n",
       "  <tbody>\n",
       "    <tr>\n",
       "      <th>0</th>\n",
       "      <td>Active</td>\n",
       "      <td>The Program Development Objective is to expand...</td>\n",
       "      <td>1408</td>\n",
       "    </tr>\n",
       "    <tr>\n",
       "      <th>1</th>\n",
       "      <td>Active</td>\n",
       "      <td>The project will deliver sustainable climate r...</td>\n",
       "      <td>103</td>\n",
       "    </tr>\n",
       "    <tr>\n",
       "      <th>2</th>\n",
       "      <td>Dropped</td>\n",
       "      <td>To improve citizen and government access to co...</td>\n",
       "      <td>276</td>\n",
       "    </tr>\n",
       "    <tr>\n",
       "      <th>3</th>\n",
       "      <td>Pipeline</td>\n",
       "      <td>To increase utilization and quality of reprodu...</td>\n",
       "      <td>132</td>\n",
       "    </tr>\n",
       "    <tr>\n",
       "      <th>4</th>\n",
       "      <td>Pipeline</td>\n",
       "      <td>The project Development Objective (PDO) is \"to...</td>\n",
       "      <td>191</td>\n",
       "    </tr>\n",
       "    <tr>\n",
       "      <th>5</th>\n",
       "      <td>Pipeline</td>\n",
       "      <td>to improve access to, and efficiency of, water...</td>\n",
       "      <td>105</td>\n",
       "    </tr>\n",
       "    <tr>\n",
       "      <th>6</th>\n",
       "      <td>Pipeline</td>\n",
       "      <td>to build human capital development in The Gambia</td>\n",
       "      <td>48</td>\n",
       "    </tr>\n",
       "    <tr>\n",
       "      <th>7</th>\n",
       "      <td>Pipeline</td>\n",
       "      <td>Improve water security and increase the econom...</td>\n",
       "      <td>107</td>\n",
       "    </tr>\n",
       "    <tr>\n",
       "      <th>8</th>\n",
       "      <td>Pipeline</td>\n",
       "      <td>To develop three-dimensional (3D) city models ...</td>\n",
       "      <td>114</td>\n",
       "    </tr>\n",
       "    <tr>\n",
       "      <th>9</th>\n",
       "      <td>Pipeline</td>\n",
       "      <td>The Program Development Objective is to suppor...</td>\n",
       "      <td>261</td>\n",
       "    </tr>\n",
       "  </tbody>\n",
       "</table>\n",
       "</div>"
      ],
      "text/plain": [
       "  Project_Status                                  Project_Objective  \\\n",
       "0         Active  The Program Development Objective is to expand...   \n",
       "1         Active  The project will deliver sustainable climate r...   \n",
       "2        Dropped  To improve citizen and government access to co...   \n",
       "3       Pipeline  To increase utilization and quality of reprodu...   \n",
       "4       Pipeline  The project Development Objective (PDO) is \"to...   \n",
       "5       Pipeline  to improve access to, and efficiency of, water...   \n",
       "6       Pipeline   to build human capital development in The Gambia   \n",
       "7       Pipeline  Improve water security and increase the econom...   \n",
       "8       Pipeline  To develop three-dimensional (3D) city models ...   \n",
       "9       Pipeline  The Program Development Objective is to suppor...   \n",
       "\n",
       "   Project_Objective  \n",
       "0               1408  \n",
       "1                103  \n",
       "2                276  \n",
       "3                132  \n",
       "4                191  \n",
       "5                105  \n",
       "6                 48  \n",
       "7                107  \n",
       "8                114  \n",
       "9                261  "
      ]
     },
     "execution_count": 132,
     "metadata": {},
     "output_type": "execute_result"
    }
   ],
   "source": [
    "df1.head(10)"
   ]
  },
  {
   "cell_type": "code",
   "execution_count": 133,
   "id": "11e0bd18",
   "metadata": {},
   "outputs": [],
   "source": [
    "df1.columns.values[2] = \"length\""
   ]
  },
  {
   "cell_type": "code",
   "execution_count": 134,
   "id": "4ea0500a",
   "metadata": {},
   "outputs": [
    {
     "data": {
      "text/html": [
       "<div>\n",
       "<style scoped>\n",
       "    .dataframe tbody tr th:only-of-type {\n",
       "        vertical-align: middle;\n",
       "    }\n",
       "\n",
       "    .dataframe tbody tr th {\n",
       "        vertical-align: top;\n",
       "    }\n",
       "\n",
       "    .dataframe thead th {\n",
       "        text-align: right;\n",
       "    }\n",
       "</style>\n",
       "<table border=\"1\" class=\"dataframe\">\n",
       "  <thead>\n",
       "    <tr style=\"text-align: right;\">\n",
       "      <th></th>\n",
       "      <th>Project_Status</th>\n",
       "      <th>Project_Objective</th>\n",
       "      <th>length</th>\n",
       "    </tr>\n",
       "  </thead>\n",
       "  <tbody>\n",
       "    <tr>\n",
       "      <th>0</th>\n",
       "      <td>Active</td>\n",
       "      <td>The Program Development Objective is to expand...</td>\n",
       "      <td>1408</td>\n",
       "    </tr>\n",
       "    <tr>\n",
       "      <th>1</th>\n",
       "      <td>Active</td>\n",
       "      <td>The project will deliver sustainable climate r...</td>\n",
       "      <td>103</td>\n",
       "    </tr>\n",
       "    <tr>\n",
       "      <th>2</th>\n",
       "      <td>Dropped</td>\n",
       "      <td>To improve citizen and government access to co...</td>\n",
       "      <td>276</td>\n",
       "    </tr>\n",
       "    <tr>\n",
       "      <th>3</th>\n",
       "      <td>Pipeline</td>\n",
       "      <td>To increase utilization and quality of reprodu...</td>\n",
       "      <td>132</td>\n",
       "    </tr>\n",
       "    <tr>\n",
       "      <th>4</th>\n",
       "      <td>Pipeline</td>\n",
       "      <td>The project Development Objective (PDO) is \"to...</td>\n",
       "      <td>191</td>\n",
       "    </tr>\n",
       "    <tr>\n",
       "      <th>...</th>\n",
       "      <td>...</td>\n",
       "      <td>...</td>\n",
       "      <td>...</td>\n",
       "    </tr>\n",
       "    <tr>\n",
       "      <th>21185</th>\n",
       "      <td>Closed</td>\n",
       "      <td>The revised PDO is to (i) improve access and e...</td>\n",
       "      <td>151</td>\n",
       "    </tr>\n",
       "    <tr>\n",
       "      <th>21332</th>\n",
       "      <td>Closed</td>\n",
       "      <td>The project development objective i s to assis...</td>\n",
       "      <td>372</td>\n",
       "    </tr>\n",
       "    <tr>\n",
       "      <th>21334</th>\n",
       "      <td>Closed</td>\n",
       "      <td>The objectives of the Project are to assist th...</td>\n",
       "      <td>661</td>\n",
       "    </tr>\n",
       "    <tr>\n",
       "      <th>21470</th>\n",
       "      <td>Dropped</td>\n",
       "      <td>ENERGY SECTOR PROJECT INCLUDES POWER COMPONENT...</td>\n",
       "      <td>145</td>\n",
       "    </tr>\n",
       "    <tr>\n",
       "      <th>21535</th>\n",
       "      <td>Dropped</td>\n",
       "      <td>THE PROJECT WILL (A) PROMOTE SKILLS DEVELOPMEN...</td>\n",
       "      <td>322</td>\n",
       "    </tr>\n",
       "  </tbody>\n",
       "</table>\n",
       "<p>11576 rows × 3 columns</p>\n",
       "</div>"
      ],
      "text/plain": [
       "      Project_Status                                  Project_Objective  \\\n",
       "0             Active  The Program Development Objective is to expand...   \n",
       "1             Active  The project will deliver sustainable climate r...   \n",
       "2            Dropped  To improve citizen and government access to co...   \n",
       "3           Pipeline  To increase utilization and quality of reprodu...   \n",
       "4           Pipeline  The project Development Objective (PDO) is \"to...   \n",
       "...              ...                                                ...   \n",
       "21185         Closed  The revised PDO is to (i) improve access and e...   \n",
       "21332         Closed  The project development objective i s to assis...   \n",
       "21334         Closed  The objectives of the Project are to assist th...   \n",
       "21470        Dropped  ENERGY SECTOR PROJECT INCLUDES POWER COMPONENT...   \n",
       "21535        Dropped  THE PROJECT WILL (A) PROMOTE SKILLS DEVELOPMEN...   \n",
       "\n",
       "       length  \n",
       "0        1408  \n",
       "1         103  \n",
       "2         276  \n",
       "3         132  \n",
       "4         191  \n",
       "...       ...  \n",
       "21185     151  \n",
       "21332     372  \n",
       "21334     661  \n",
       "21470     145  \n",
       "21535     322  \n",
       "\n",
       "[11576 rows x 3 columns]"
      ]
     },
     "execution_count": 134,
     "metadata": {},
     "output_type": "execute_result"
    }
   ],
   "source": [
    "df1\n"
   ]
  },
  {
   "cell_type": "markdown",
   "id": "e37c7b9c",
   "metadata": {},
   "source": [
    "# dropping the extra status variable"
   ]
  },
  {
   "cell_type": "code",
   "execution_count": 135,
   "id": "b099cc3d",
   "metadata": {},
   "outputs": [],
   "source": [
    "train = df1.copy()"
   ]
  },
  {
   "cell_type": "code",
   "execution_count": 136,
   "id": "404705f1",
   "metadata": {},
   "outputs": [],
   "source": [
    "train.drop(train[(train['Project_Status'] == \"Active\")].index, inplace=True)"
   ]
  },
  {
   "cell_type": "code",
   "execution_count": 137,
   "id": "ba4a28c0",
   "metadata": {},
   "outputs": [],
   "source": [
    "train.drop(train[(train['Project_Status'] == \"Pipeline\")].index, inplace=True)"
   ]
  },
  {
   "cell_type": "code",
   "execution_count": 138,
   "id": "628c789e",
   "metadata": {},
   "outputs": [],
   "source": [
    "from nltk.corpus import stopwords"
   ]
  },
  {
   "cell_type": "code",
   "execution_count": 139,
   "id": "ef7495d0",
   "metadata": {},
   "outputs": [
    {
     "name": "stderr",
     "output_type": "stream",
     "text": [
      "[nltk_data] Downloading package stopwords to\n",
      "[nltk_data]     C:\\Users\\Yash\\AppData\\Roaming\\nltk_data...\n",
      "[nltk_data]   Package stopwords is already up-to-date!\n"
     ]
    },
    {
     "data": {
      "text/plain": [
       "True"
      ]
     },
     "execution_count": 139,
     "metadata": {},
     "output_type": "execute_result"
    }
   ],
   "source": [
    "nltk.download(\"stopwords\")"
   ]
  },
  {
   "cell_type": "code",
   "execution_count": 140,
   "id": "2c10fa2d",
   "metadata": {},
   "outputs": [
    {
     "data": {
      "text/plain": [
       "'!\"#$%&\\'()*+,-./:;<=>?@[\\\\]^_`{|}~'"
      ]
     },
     "execution_count": 140,
     "metadata": {},
     "output_type": "execute_result"
    }
   ],
   "source": [
    "import string \n",
    "string.punctuation"
   ]
  },
  {
   "cell_type": "code",
   "execution_count": 141,
   "id": "0e895320",
   "metadata": {},
   "outputs": [],
   "source": [
    "def text_process(mess):\n",
    "    '''\n",
    "    1. remove the punctuation\n",
    "    2. remove the stopwords\n",
    "    3. return the list of clean textwords\n",
    "    '''\n",
    "    nopunc = [char for char in mess if char not in string.punctuation]\n",
    "    nopunc = \"\".join(nopunc)\n",
    "    return[word for word in nopunc.split()if word not in stopwords.words(\"english\")]"
   ]
  },
  {
   "cell_type": "code",
   "execution_count": 142,
   "id": "54016bef",
   "metadata": {},
   "outputs": [
    {
     "data": {
      "text/plain": [
       "2        [To, improve, citizen, government, access, cou...\n",
       "194      [The, Project, Development, Objective, PDO, Op...\n",
       "258      [To, strengthen, capacity, Romanian, instituti...\n",
       "473      [The, development, objective, increase, energy...\n",
       "657      [To, improve, living, conditions, vulnerable, ...\n",
       "                               ...                        \n",
       "21185    [The, revised, PDO, improve, access, equity, p...\n",
       "21332    [The, project, development, objective, assist,...\n",
       "21334    [The, objectives, Project, assist, Borrower, i...\n",
       "21470    [ENERGY, SECTOR, PROJECT, INCLUDES, POWER, COM...\n",
       "21535    [THE, PROJECT, WILL, A, PROMOTE, SKILLS, DEVEL...\n",
       "Name: Project_Objective, Length: 7600, dtype: object"
      ]
     },
     "execution_count": 142,
     "metadata": {},
     "output_type": "execute_result"
    }
   ],
   "source": [
    "train[\"Project_Objective\"].apply(text_process)                "
   ]
  },
  {
   "cell_type": "code",
   "execution_count": 32,
   "id": "436cfd4d",
   "metadata": {},
   "outputs": [],
   "source": [
    "from wordcloud import WordCloud"
   ]
  },
  {
   "cell_type": "code",
   "execution_count": 33,
   "id": "ae4e97e2",
   "metadata": {},
   "outputs": [],
   "source": [
    "cloud = WordCloud().generate(str(train[\"Project_Objective\"]))"
   ]
  },
  {
   "cell_type": "code",
   "execution_count": 34,
   "id": "c8d6d07d",
   "metadata": {},
   "outputs": [
    {
     "data": {
      "text/plain": [
       "<matplotlib.image.AxesImage at 0x1790a5dcb20>"
      ]
     },
     "execution_count": 34,
     "metadata": {},
     "output_type": "execute_result"
    },
    {
     "data": {
      "image/png": "[encoded data removed]",
      "text/plain": [
       "<Figure size 432x288 with 1 Axes>"
      ]
     },
     "metadata": {
      "needs_background": "light"
     },
     "output_type": "display_data"
    }
   ],
   "source": [
    "plt.imshow(cloud)"
   ]
  },
  {
   "cell_type": "code",
   "execution_count": 35,
   "id": "1b897012",
   "metadata": {},
   "outputs": [
    {
     "data": {
      "text/html": [
       "<div>\n",
       "<style scoped>\n",
       "    .dataframe tbody tr th:only-of-type {\n",
       "        vertical-align: middle;\n",
       "    }\n",
       "\n",
       "    .dataframe tbody tr th {\n",
       "        vertical-align: top;\n",
       "    }\n",
       "\n",
       "    .dataframe thead th {\n",
       "        text-align: right;\n",
       "    }\n",
       "</style>\n",
       "<table border=\"1\" class=\"dataframe\">\n",
       "  <thead>\n",
       "    <tr style=\"text-align: right;\">\n",
       "      <th></th>\n",
       "      <th>Project_Status</th>\n",
       "      <th>Project_Objective</th>\n",
       "      <th>length</th>\n",
       "    </tr>\n",
       "  </thead>\n",
       "  <tbody>\n",
       "    <tr>\n",
       "      <th>2</th>\n",
       "      <td>Dropped</td>\n",
       "      <td>To improve citizen and government access to co...</td>\n",
       "      <td>276</td>\n",
       "    </tr>\n",
       "    <tr>\n",
       "      <th>194</th>\n",
       "      <td>Dropped</td>\n",
       "      <td>The Project Development Objective (PDO) of the...</td>\n",
       "      <td>277</td>\n",
       "    </tr>\n",
       "    <tr>\n",
       "      <th>258</th>\n",
       "      <td>Dropped</td>\n",
       "      <td>To strengthen the capacity of Romanian institu...</td>\n",
       "      <td>180</td>\n",
       "    </tr>\n",
       "    <tr>\n",
       "      <th>473</th>\n",
       "      <td>Dropped</td>\n",
       "      <td>The development objective is to increase energ...</td>\n",
       "      <td>165</td>\n",
       "    </tr>\n",
       "    <tr>\n",
       "      <th>657</th>\n",
       "      <td>Dropped</td>\n",
       "      <td>To improve living conditions of vulnerable hou...</td>\n",
       "      <td>164</td>\n",
       "    </tr>\n",
       "    <tr>\n",
       "      <th>...</th>\n",
       "      <td>...</td>\n",
       "      <td>...</td>\n",
       "      <td>...</td>\n",
       "    </tr>\n",
       "    <tr>\n",
       "      <th>20335</th>\n",
       "      <td>Dropped</td>\n",
       "      <td>TO PROVIDE ADDITIONAL CAPACITY, IMPROVE GENERA...</td>\n",
       "      <td>114</td>\n",
       "    </tr>\n",
       "    <tr>\n",
       "      <th>20569</th>\n",
       "      <td>Dropped</td>\n",
       "      <td>ADAPTABLE PROGRAM LOAN FOR STRENGTHENING PRIMA...</td>\n",
       "      <td>72</td>\n",
       "    </tr>\n",
       "    <tr>\n",
       "      <th>20847</th>\n",
       "      <td>Dropped</td>\n",
       "      <td>TO PROVIDE A RELIABLE AND POTABLE WATER SUPPLY...</td>\n",
       "      <td>283</td>\n",
       "    </tr>\n",
       "    <tr>\n",
       "      <th>21470</th>\n",
       "      <td>Dropped</td>\n",
       "      <td>ENERGY SECTOR PROJECT INCLUDES POWER COMPONENT...</td>\n",
       "      <td>145</td>\n",
       "    </tr>\n",
       "    <tr>\n",
       "      <th>21535</th>\n",
       "      <td>Dropped</td>\n",
       "      <td>THE PROJECT WILL (A) PROMOTE SKILLS DEVELOPMEN...</td>\n",
       "      <td>322</td>\n",
       "    </tr>\n",
       "  </tbody>\n",
       "</table>\n",
       "<p>1100 rows × 3 columns</p>\n",
       "</div>"
      ],
      "text/plain": [
       "      Project_Status                                  Project_Objective  \\\n",
       "2            Dropped  To improve citizen and government access to co...   \n",
       "194          Dropped  The Project Development Objective (PDO) of the...   \n",
       "258          Dropped  To strengthen the capacity of Romanian institu...   \n",
       "473          Dropped  The development objective is to increase energ...   \n",
       "657          Dropped  To improve living conditions of vulnerable hou...   \n",
       "...              ...                                                ...   \n",
       "20335        Dropped  TO PROVIDE ADDITIONAL CAPACITY, IMPROVE GENERA...   \n",
       "20569        Dropped  ADAPTABLE PROGRAM LOAN FOR STRENGTHENING PRIMA...   \n",
       "20847        Dropped  TO PROVIDE A RELIABLE AND POTABLE WATER SUPPLY...   \n",
       "21470        Dropped  ENERGY SECTOR PROJECT INCLUDES POWER COMPONENT...   \n",
       "21535        Dropped  THE PROJECT WILL (A) PROMOTE SKILLS DEVELOPMEN...   \n",
       "\n",
       "       length  \n",
       "2         276  \n",
       "194       277  \n",
       "258       180  \n",
       "473       165  \n",
       "657       164  \n",
       "...       ...  \n",
       "20335     114  \n",
       "20569      72  \n",
       "20847     283  \n",
       "21470     145  \n",
       "21535     322  \n",
       "\n",
       "[1100 rows x 3 columns]"
      ]
     },
     "execution_count": 35,
     "metadata": {},
     "output_type": "execute_result"
    }
   ],
   "source": [
    "train_dropped = train[train.Project_Status == \"Dropped\"]                 \n",
    "train_dropped"
   ]
  },
  {
   "cell_type": "code",
   "execution_count": 40,
   "id": "8419ec7e",
   "metadata": {},
   "outputs": [],
   "source": [
    "wc = WordCloud(max_words = 50)"
   ]
  },
  {
   "cell_type": "code",
   "execution_count": 41,
   "id": "a3c2f943",
   "metadata": {},
   "outputs": [],
   "source": [
    "cloud_dropped = wc.generate(str(train_dropped.Project_Status))"
   ]
  },
  {
   "cell_type": "code",
   "execution_count": 42,
   "id": "07c3eb71",
   "metadata": {},
   "outputs": [
    {
     "data": {
      "text/plain": [
       "<matplotlib.image.AxesImage at 0x1790a7280d0>"
      ]
     },
     "execution_count": 42,
     "metadata": {},
     "output_type": "execute_result"
    },
    {
     "data": {
      "image/png": "[encoded data removed]",
      "text/plain": [
       "<Figure size 1080x1080 with 1 Axes>"
      ]
     },
     "metadata": {
      "needs_background": "light"
     },
     "output_type": "display_data"
    }
   ],
   "source": [
    "fig = plt.figure(figsize = (15,15))\n",
    "plt.imshow(cloud_dropped)"
   ]
  },
  {
   "cell_type": "code",
   "execution_count": 43,
   "id": "b2f55e2c",
   "metadata": {},
   "outputs": [
    {
     "data": {
      "text/html": [
       "<div>\n",
       "<style scoped>\n",
       "    .dataframe tbody tr th:only-of-type {\n",
       "        vertical-align: middle;\n",
       "    }\n",
       "\n",
       "    .dataframe tbody tr th {\n",
       "        vertical-align: top;\n",
       "    }\n",
       "\n",
       "    .dataframe thead th {\n",
       "        text-align: right;\n",
       "    }\n",
       "</style>\n",
       "<table border=\"1\" class=\"dataframe\">\n",
       "  <thead>\n",
       "    <tr style=\"text-align: right;\">\n",
       "      <th></th>\n",
       "      <th>Project_Status</th>\n",
       "      <th>Project_Objective</th>\n",
       "      <th>length</th>\n",
       "    </tr>\n",
       "  </thead>\n",
       "  <tbody>\n",
       "    <tr>\n",
       "      <th>666</th>\n",
       "      <td>Closed</td>\n",
       "      <td>The program development objective is to suppor...</td>\n",
       "      <td>354</td>\n",
       "    </tr>\n",
       "    <tr>\n",
       "      <th>754</th>\n",
       "      <td>Closed</td>\n",
       "      <td>The grant development objective is to improve ...</td>\n",
       "      <td>146</td>\n",
       "    </tr>\n",
       "    <tr>\n",
       "      <th>1050</th>\n",
       "      <td>Closed</td>\n",
       "      <td>To facilitate Sudan's re-engagement with the W...</td>\n",
       "      <td>509</td>\n",
       "    </tr>\n",
       "    <tr>\n",
       "      <th>1056</th>\n",
       "      <td>Closed</td>\n",
       "      <td>To provide economic support to help mitigate t...</td>\n",
       "      <td>175</td>\n",
       "    </tr>\n",
       "    <tr>\n",
       "      <th>1082</th>\n",
       "      <td>Closed</td>\n",
       "      <td>The operation seeks to support Dominica in its...</td>\n",
       "      <td>269</td>\n",
       "    </tr>\n",
       "    <tr>\n",
       "      <th>...</th>\n",
       "      <td>...</td>\n",
       "      <td>...</td>\n",
       "      <td>...</td>\n",
       "    </tr>\n",
       "    <tr>\n",
       "      <th>20854</th>\n",
       "      <td>Closed</td>\n",
       "      <td>The projects development objective is to supp...</td>\n",
       "      <td>615</td>\n",
       "    </tr>\n",
       "    <tr>\n",
       "      <th>20874</th>\n",
       "      <td>Closed</td>\n",
       "      <td>Improve rural income generation through increa...</td>\n",
       "      <td>158</td>\n",
       "    </tr>\n",
       "    <tr>\n",
       "      <th>21185</th>\n",
       "      <td>Closed</td>\n",
       "      <td>The revised PDO is to (i) improve access and e...</td>\n",
       "      <td>151</td>\n",
       "    </tr>\n",
       "    <tr>\n",
       "      <th>21332</th>\n",
       "      <td>Closed</td>\n",
       "      <td>The project development objective i s to assis...</td>\n",
       "      <td>372</td>\n",
       "    </tr>\n",
       "    <tr>\n",
       "      <th>21334</th>\n",
       "      <td>Closed</td>\n",
       "      <td>The objectives of the Project are to assist th...</td>\n",
       "      <td>661</td>\n",
       "    </tr>\n",
       "  </tbody>\n",
       "</table>\n",
       "<p>6500 rows × 3 columns</p>\n",
       "</div>"
      ],
      "text/plain": [
       "      Project_Status                                  Project_Objective  \\\n",
       "666           Closed  The program development objective is to suppor...   \n",
       "754           Closed  The grant development objective is to improve ...   \n",
       "1050          Closed  To facilitate Sudan's re-engagement with the W...   \n",
       "1056          Closed  To provide economic support to help mitigate t...   \n",
       "1082          Closed  The operation seeks to support Dominica in its...   \n",
       "...              ...                                                ...   \n",
       "20854         Closed  The projects development objective is to supp...   \n",
       "20874         Closed  Improve rural income generation through increa...   \n",
       "21185         Closed  The revised PDO is to (i) improve access and e...   \n",
       "21332         Closed  The project development objective i s to assis...   \n",
       "21334         Closed  The objectives of the Project are to assist th...   \n",
       "\n",
       "       length  \n",
       "666       354  \n",
       "754       146  \n",
       "1050      509  \n",
       "1056      175  \n",
       "1082      269  \n",
       "...       ...  \n",
       "20854     615  \n",
       "20874     158  \n",
       "21185     151  \n",
       "21332     372  \n",
       "21334     661  \n",
       "\n",
       "[6500 rows x 3 columns]"
      ]
     },
     "execution_count": 43,
     "metadata": {},
     "output_type": "execute_result"
    }
   ],
   "source": [
    "train_closed  = train[train.Project_Status == \"Closed\"]\n",
    "train_closed"
   ]
  },
  {
   "cell_type": "code",
   "execution_count": 44,
   "id": "95f49e17",
   "metadata": {},
   "outputs": [],
   "source": [
    "cloud_closed = wc.generate(str(train_closed.Project_Status))"
   ]
  },
  {
   "cell_type": "code",
   "execution_count": 45,
   "id": "7554d20a",
   "metadata": {},
   "outputs": [
    {
     "data": {
      "text/plain": [
       "<matplotlib.image.AxesImage at 0x1790aa7dd00>"
      ]
     },
     "execution_count": 45,
     "metadata": {},
     "output_type": "execute_result"
    },
    {
     "data": {
      "image/png": "[encoded data removed]",
      "text/plain": [
       "<Figure size 1080x1080 with 1 Axes>"
      ]
     },
     "metadata": {
      "needs_background": "light"
     },
     "output_type": "display_data"
    }
   ],
   "source": [
    "fig = plt.figure(figsize = (15,15))\n",
    "plt.imshow(cloud_closed)"
   ]
  },
  {
   "cell_type": "code",
   "execution_count": 46,
   "id": "8ee97d4b",
   "metadata": {},
   "outputs": [],
   "source": [
    "from sklearn.feature_extraction.text  import CountVectorizer"
   ]
  },
  {
   "cell_type": "code",
   "execution_count": 47,
   "id": "ce6e3859",
   "metadata": {},
   "outputs": [
    {
     "data": {
      "text/plain": [
       "{'To': 10178,\n",
       " 'improve': 16355,\n",
       " 'citizen': 12641,\n",
       " 'government': 15747,\n",
       " 'access': 10990,\n",
       " 'county': 13407,\n",
       " 'data': 13583,\n",
       " 'open': 18693,\n",
       " 'portal': 19384,\n",
       " 'facilitate': 15109,\n",
       " 'monitoring': 17989,\n",
       " 'evaluation': 14895,\n",
       " 'progress': 19743,\n",
       " 'service': 21193,\n",
       " 'delivery': 13720,\n",
       " 'achieving': 11068,\n",
       " 'twin': 22782,\n",
       " 'targets': 22166,\n",
       " 'poverty': 19449,\n",
       " 'reduction': 20226,\n",
       " 'shared': 21241,\n",
       " 'prosperity': 19829,\n",
       " 'level': 17300,\n",
       " 'The': 10126,\n",
       " 'Project': 8320,\n",
       " 'Development': 3293,\n",
       " 'Objective': 7289,\n",
       " 'PDO': 7559,\n",
       " 'Operation': 7342,\n",
       " 'quality': 19961,\n",
       " 'governance': 15737,\n",
       " 'school': 20974,\n",
       " 'education': 14350,\n",
       " 'selected': 21098,\n",
       " 'st': 21599,\n",
       " 'ates': 11836,\n",
       " 'quali': 19955,\n",
       " 'ty': 22796,\n",
       " 'states': 21671,\n",
       " 'strengthen': 21786,\n",
       " 'capacity': 12385,\n",
       " 'Romanian': 8899,\n",
       " 'institutions': 16727,\n",
       " 'respond': 20594,\n",
       " 'COVID19': 2407,\n",
       " 'pandemic': 18948,\n",
       " 'ensure': 14680,\n",
       " 'adequate': 11152,\n",
       " 'emergency': 14504,\n",
       " 'surge': 22030,\n",
       " 'capac': 12378,\n",
       " 'ity': 17007,\n",
       " 'safety': 20905,\n",
       " 'public': 19896,\n",
       " 'health': 15942,\n",
       " 'infrastructure': 16585,\n",
       " 'development': 13882,\n",
       " 'objective': 18495,\n",
       " 'increase': 16440,\n",
       " 'energy': 14613,\n",
       " 'efficiency': 14389,\n",
       " 'municipal': 18105,\n",
       " 'services': 21199,\n",
       " 'enhance': 14650,\n",
       " 'financing': 15285,\n",
       " 'investments': 16915,\n",
       " 'living': 17416,\n",
       " 'conditions': 13061,\n",
       " 'vulnerable': 23249,\n",
       " 'households': 16099,\n",
       " 'green': 15799,\n",
       " 'resilient': 20562,\n",
       " 'inclusive': 16415,\n",
       " 'urban': 23022,\n",
       " 'sel': 21093,\n",
       " 'ected': 14327,\n",
       " 'municipalities': 18107,\n",
       " 'Mexico': 6650,\n",
       " 'program': 19729,\n",
       " 'support': 22008,\n",
       " 'Royal': 8912,\n",
       " 'Government': 4650,\n",
       " 'Cambodia': 2513,\n",
       " 'effectively': 14376,\n",
       " 'deal': 13607,\n",
       " 'crisis': 13462,\n",
       " 'aftermath': 11249,\n",
       " 'continuing': 13230,\n",
       " 'provide': 19852,\n",
       " 'timely': 22469,\n",
       " 'targeted': 22160,\n",
       " 'relief': 20425,\n",
       " 'affected': 11230,\n",
       " 'population': 19372,\n",
       " 'ii': 16243,\n",
       " 'facilitating': 15113,\n",
       " 'robust': 20798,\n",
       " 'recovery': 20190,\n",
       " 'hrough': 16107,\n",
       " 'structural': 21823,\n",
       " 'reforms': 20278,\n",
       " 'iii': 16251,\n",
       " 'building': 12263,\n",
       " 'resilience': 20560,\n",
       " 'future': 15604,\n",
       " 'economic': 14310,\n",
       " 'shocks': 21268,\n",
       " 'prevent': 19581,\n",
       " 'detect': 13847,\n",
       " 'threat': 22398,\n",
       " 'posed': 19397,\n",
       " 'national': 18153,\n",
       " 'systems': 22102,\n",
       " 'preparedness': 19543,\n",
       " 'Republic': 8814,\n",
       " 'Azerbaijan': 1567,\n",
       " 'Montenegro': 6766,\n",
       " 'strengthening': 21790,\n",
       " 'modernizing': 17964,\n",
       " 'procurement': 19680,\n",
       " 'system': 22093,\n",
       " 'Rwanda': 8933,\n",
       " 'leveraging': 17314,\n",
       " 'use': 23041,\n",
       " 'eProcu': 14252,\n",
       " 'rement': 20449,\n",
       " 'though': 22394,\n",
       " 'collection': 12789,\n",
       " 'analysis': 11443,\n",
       " 'visualization': 23217,\n",
       " 'Adoption': 1219,\n",
       " 'Open': 7341,\n",
       " 'Contract': 2832,\n",
       " 'Data': 3215,\n",
       " 'Standard': 9690,\n",
       " 'OCDS': 7209,\n",
       " 'EProcurement': 3610,\n",
       " 'System': 9845,\n",
       " 'Enhancement': 3821,\n",
       " 'grant': 15779,\n",
       " 'conflictaffected': 13084,\n",
       " 'people': 19109,\n",
       " 'reduce': 20219,\n",
       " 'financial': 15271,\n",
       " 'burdens': 12283,\n",
       " 'host': 16084,\n",
       " 'ing': 16594,\n",
       " 'families': 15150,\n",
       " 'food': 15408,\n",
       " 'insecurity': 16670,\n",
       " 'n': 18127,\n",
       " 'areas': 11695,\n",
       " 'projects': 19765,\n",
       " 'export': 15051,\n",
       " 'competitiveness': 12942,\n",
       " 'Moldovan': 6749,\n",
       " 'enterprises': 14695,\n",
       " 'decrease': 13656,\n",
       " 'regulatory': 20349,\n",
       " 'burden': 12281,\n",
       " 'face': 15100,\n",
       " 'This': 10148,\n",
       " 'achieved': 11060,\n",
       " 'set': 21210,\n",
       " 'measures': 17728,\n",
       " 'aim': 11336,\n",
       " 'business': 12301,\n",
       " 'environment': 14739,\n",
       " 'cost': 13347,\n",
       " 'help': 15971,\n",
       " 'SMEs': 9139,\n",
       " 'exporters': 15055,\n",
       " 'get': 15690,\n",
       " 'servicesand': 21201,\n",
       " 'medium': 17744,\n",
       " 'long': 17473,\n",
       " 'term': 22265,\n",
       " 'finance': 15265,\n",
       " 'oriented': 18781,\n",
       " 'bu': 12249,\n",
       " 'rden': 20074,\n",
       " 'regu': 20333,\n",
       " 'latory': 17206,\n",
       " 'servicesa': 21200,\n",
       " 'nd': 18197,\n",
       " 'primary': 19604,\n",
       " 'care': 12418,\n",
       " 'healthcare': 15946,\n",
       " 'select': 21096,\n",
       " 'Ind': 5332,\n",
       " 'ia': 16165,\n",
       " 'equitable': 14786,\n",
       " 'basic': 12008,\n",
       " 'delivered': 13716,\n",
       " 'formal': 15451,\n",
       " 'alternative': 11406,\n",
       " 'complementary': 12956,\n",
       " 'providers': 19856,\n",
       " 'Support': 9802,\n",
       " 'MSMEs': 6399,\n",
       " 'adapting': 11128,\n",
       " 'immediate': 16297,\n",
       " 'impacts': 16311,\n",
       " 'new': 18268,\n",
       " 'existing': 14979,\n",
       " 'overall': 18873,\n",
       " 'evidencebased': 14916,\n",
       " 'recommendations': 20168,\n",
       " 'improving': 16370,\n",
       " 'roadway': 20797,\n",
       " 'design': 13820,\n",
       " 'operations': 18722,\n",
       " 'cit': 12634,\n",
       " 'ies': 16226,\n",
       " 'LMICs': 5861,\n",
       " 'SubSaharan': 9757,\n",
       " 'Africa': 1239,\n",
       " 'better': 12080,\n",
       " 'address': 11143,\n",
       " 'motorcycles': 18031,\n",
       " 'World': 10811,\n",
       " 'Bank': 1807,\n",
       " 'aims': 11343,\n",
       " 'proposed': 19819,\n",
       " 'US35': 10426,\n",
       " 'million': 17870,\n",
       " 'DPL': 3125,\n",
       " 'Montenegr': 6764,\n",
       " 'mitigate': 17921,\n",
       " 'social': 21431,\n",
       " 'impact': 16308,\n",
       " 'enable': 14550,\n",
       " 'Sudans': 9774,\n",
       " 'reengagement': 20237,\n",
       " 'Group': 4713,\n",
       " 'countrys': 13400,\n",
       " 'reform': 20272,\n",
       " 'agenda': 11268,\n",
       " 'policies': 19323,\n",
       " 'correcting': 13327,\n",
       " 'macroeconomic': 17543,\n",
       " 'imbalances': 16294,\n",
       " 'exchange': 14952,\n",
       " 'rate': 20044,\n",
       " 'liberalization': 17322,\n",
       " 'phasing': 19186,\n",
       " 'fuel': 15555,\n",
       " 'subsidies': 21906,\n",
       " 'ocial': 18536,\n",
       " 'protection': 19836,\n",
       " 'inclusion': 16411,\n",
       " 'implementing': 16328,\n",
       " 'Sudan': 9772,\n",
       " 'Family': 4154,\n",
       " 'Program': 8305,\n",
       " 'SFSP': 9072,\n",
       " 'transparency': 22664,\n",
       " 'accountability': 11030,\n",
       " 'sector': 21033,\n",
       " '–': 23601,\n",
       " 'standards': 21642,\n",
       " 'publication': 19898,\n",
       " 'budget': 12252,\n",
       " 'execution': 14964,\n",
       " 'reports': 20506,\n",
       " 'Venezuelan': 10612,\n",
       " 'migrants': 17853,\n",
       " 'communi': 12867,\n",
       " 'ties': 22450,\n",
       " 'Colombian': 2703,\n",
       " 'pilot': 19217,\n",
       " 'clean': 12681,\n",
       " 'technology': 22223,\n",
       " 'solutions': 21475,\n",
       " 'improved': 16357,\n",
       " 'electricity': 14452,\n",
       " 'operation': 18706,\n",
       " 'seeks': 21079,\n",
       " 'Dominica': 3376,\n",
       " 'response': 20598,\n",
       " 'saving': 20945,\n",
       " 'lives': 17410,\n",
       " 'protecting': 19834,\n",
       " 'livelihoods': 17407,\n",
       " 'preserving': 19570,\n",
       " 'jobs': 17042,\n",
       " 'fiscal': 15313,\n",
       " 'management': 17595,\n",
       " 'debt': 13615,\n",
       " 'recov': 20186,\n",
       " 'ery': 14827,\n",
       " 'critical': 13468,\n",
       " 'high': 15989,\n",
       " 'highrisk': 16020,\n",
       " 'seismic': 21092,\n",
       " 'zones': 23516,\n",
       " 'India': 5338,\n",
       " 'establish': 14853,\n",
       " 'platforms': 19274,\n",
       " 'ove': 18866,\n",
       " 'rall': 20018,\n",
       " 'earthquake': 14275,\n",
       " 'risk': 20749,\n",
       " 'contribute': 13250,\n",
       " 'sustainable': 22066,\n",
       " 'micro': 17811,\n",
       " 'small': 21405,\n",
       " 'project': 19754,\n",
       " 'Mongolia’s': 6760,\n",
       " 'outbreak': 18833,\n",
       " 'assist': 11801,\n",
       " 'Jamaicas': 5514,\n",
       " 'poor': 19358,\n",
       " 'vu': 23244,\n",
       " 'lnerable': 17425,\n",
       " 'supporting': 22014,\n",
       " 'growth': 15841,\n",
       " 'job': 17039,\n",
       " 'creation': 13440,\n",
       " 'Grenada’s': 4703,\n",
       " 'short': 21272,\n",
       " 'also': 11401,\n",
       " 'enhan': 14649,\n",
       " 'ce': 12488,\n",
       " 'longterm': 17482,\n",
       " 'sustainability': 22063,\n",
       " 'Government’s': 4666,\n",
       " 'responses': 20599,\n",
       " 'COVI': 2405,\n",
       " 'D19': 2952,\n",
       " 'firms': 15302,\n",
       " 'transparenc': 22663,\n",
       " 'identified': 16206,\n",
       " 'communities': 12878,\n",
       " 'area': 11692,\n",
       " 'Mindanao': 6678,\n",
       " 'socioeconomic': 21449,\n",
       " 'opp': 18735,\n",
       " 'ortunities': 18806,\n",
       " 'well': 23329,\n",
       " 'engage': 14629,\n",
       " 'ministries': 17901,\n",
       " 'BARMM': 1596,\n",
       " 'participatory': 19005,\n",
       " 'mechanisms': 17734,\n",
       " 'detection': 13850,\n",
       " 'capacities': 12382,\n",
       " 'related': 20396,\n",
       " 'Kosovo': 5745,\n",
       " 'aimed': 11340,\n",
       " 'reinforcing': 20378,\n",
       " 'foundations': 15505,\n",
       " 'climate': 12699,\n",
       " 'smart': 21419,\n",
       " 'economi': 14309,\n",
       " 'c': 12328,\n",
       " 'Bangladesh': 1799,\n",
       " 'utilization': 23070,\n",
       " 'clinical': 12710,\n",
       " 'priority': 19627,\n",
       " 'expand': 14991,\n",
       " 'coverage': 13418,\n",
       " 'schemes': 20968,\n",
       " 'TimorLeste': 10171,\n",
       " 'chi': 12576,\n",
       " 'ldren': 17228,\n",
       " 'net': 18254,\n",
       " 'Vietnam': 10629,\n",
       " 'detecting': 13849,\n",
       " 'responding': 20596,\n",
       " 'Madagascar': 6441,\n",
       " 'Covid19': 2899,\n",
       " 'mitigating': 17924,\n",
       " 'country': 13394,\n",
       " 'Objectives': 7294,\n",
       " 'framework': 15523,\n",
       " 'h': 15877,\n",
       " 'ealth': 14259,\n",
       " 'outcomes': 18836,\n",
       " 'negative': 18231,\n",
       " 'lay': 17216,\n",
       " 'reco': 20161,\n",
       " 'laboratory': 17133,\n",
       " 'diagnosis': 13915,\n",
       " 'cases': 12444,\n",
       " 'effects': 14379,\n",
       " 'risks': 20756,\n",
       " 'strength': 21783,\n",
       " 'en': 14549,\n",
       " 'mediumterm': 17748,\n",
       " 'ensuring': 14683,\n",
       " 'busines': 12300,\n",
       " 'continuity': 13231,\n",
       " 'enhancing': 14657,\n",
       " 'postcrisis': 19422,\n",
       " 'make': 17573,\n",
       " 'Colombia’s': 2707,\n",
       " 'Social': 9613,\n",
       " 'Registry': 8781,\n",
       " 'dynamic': 14241,\n",
       " 'integrated': 16761,\n",
       " 'programs': 19740,\n",
       " 'benefits': 12069,\n",
       " 'target': 22158,\n",
       " 'protected': 19833,\n",
       " 'impa': 16307,\n",
       " 'cts': 13506,\n",
       " 'expanding': 14994,\n",
       " 'opportunities': 18741,\n",
       " 'crisisadaptive': 13463,\n",
       " 'state': 21660,\n",
       " 'fi': 15230,\n",
       " 'scal': 20950,\n",
       " 'DPF': 3119,\n",
       " 'GoI': 4591,\n",
       " 'flows': 15367,\n",
       " 'stronger': 21817,\n",
       " 'MSME': 6398,\n",
       " 'ecosystem': 14320,\n",
       " 'phase': 19180,\n",
       " 'promote': 19793,\n",
       " 'biodiversityfriendly': 12116,\n",
       " 'opportunitie': 18740,\n",
       " 'objectives': 18502,\n",
       " 'protect': 19832,\n",
       " 'prepare': 19540,\n",
       " 'prepar': 19535,\n",
       " 'edness': 14341,\n",
       " 'GuineaBissau': 4742,\n",
       " 'DPO': 3138,\n",
       " 'fisc': 15312,\n",
       " 'al': 11356,\n",
       " 'stabilization': 21605,\n",
       " 'rapid': 20037,\n",
       " 'pillars': 19216,\n",
       " 'policy': 19328,\n",
       " 'fo': 15374,\n",
       " 'r': 19989,\n",
       " 'provision': 19873,\n",
       " 'learning': 17247,\n",
       " 'shutdown': 21297,\n",
       " 'safe': 20897,\n",
       " 'transit': 22643,\n",
       " 'ion': 16933,\n",
       " 'back': 11956,\n",
       " 'Seychelles': 9521,\n",
       " '1': 62,\n",
       " 'heal': 15940,\n",
       " 'th': 22297,\n",
       " 'private': 19633,\n",
       " '2': 292,\n",
       " 'strengthened': 21787,\n",
       " 'coordination': 13301,\n",
       " 'Governments': 4659,\n",
       " 'mitigation': 17926,\n",
       " 'foundation': 15503,\n",
       " 'diversified': 14104,\n",
       " 'sectorled': 21042,\n",
       " 'Covid1': 2898,\n",
       " '9': 832,\n",
       " 'aid': 11330,\n",
       " 'environmental': 14741,\n",
       " 'Program’s': 8316,\n",
       " 'providing': 19861,\n",
       " 'income': 16418,\n",
       " 'reducing': 20224,\n",
       " 'tax': 22176,\n",
       " 'corporations': 13321,\n",
       " 'DO': 3090,\n",
       " 'Colombia': 2702,\n",
       " 'nutrition': 18470,\n",
       " 'suppor': 22007,\n",
       " 'maintain': 17563,\n",
       " 'liquidity': 17388,\n",
       " 'series': 21175,\n",
       " 'supports': 22018,\n",
       " 'removing': 20456,\n",
       " 'barriers': 11998,\n",
       " 'se': 20998,\n",
       " 'ctor': 13504,\n",
       " 'promoting': 19796,\n",
       " 'Pillars': 8144,\n",
       " 'sustained': 22070,\n",
       " 'human': 16112,\n",
       " 'capital': 12399,\n",
       " 'foster': 15494,\n",
       " 'uman': 22832,\n",
       " 'accumulation': 11047,\n",
       " 'equity': 14790,\n",
       " 'higher': 15996,\n",
       " 'Indonesia': 5350,\n",
       " 'effect': 14369,\n",
       " 'Recipient’s': 8739,\n",
       " 'Facilitate': 4137,\n",
       " 'Somalias': 9636,\n",
       " 'full': 15568,\n",
       " 'Somalia’s': 9637,\n",
       " 'context': 13216,\n",
       " 'e': 14246,\n",
       " 'mergency': 17779,\n",
       " 'online': 18667,\n",
       " 'distance': 14073,\n",
       " 'students': 21835,\n",
       " 'secondary': 21018,\n",
       " 'schools': 20981,\n",
       " 'smooth': 21423,\n",
       " 'transiti': 22645,\n",
       " 'return': 20673,\n",
       " 'essential': 14845,\n",
       " 'package': 18939,\n",
       " 'emergencies': 14502,\n",
       " 'South': 9650,\n",
       " 'particular': 19006,\n",
       " 'focus': 15379,\n",
       " 'former': 15462,\n",
       " 'Upper': 10523,\n",
       " 'Nile': 7124,\n",
       " 'Jonglei': 5557,\n",
       " 'PDOs': 7567,\n",
       " 'standalone': 21637,\n",
       " 'p': 18928,\n",
       " 'andemic': 11496,\n",
       " 'reporting': 20504,\n",
       " 'ground': 15819,\n",
       " 'investm': 16905,\n",
       " 'ent': 14684,\n",
       " 'transparent': 22667,\n",
       " 'investment': 16909,\n",
       " 'Project’s': 8328,\n",
       " 'implementation': 16325,\n",
       " 'Education': 3750,\n",
       " 'Sector': 9460,\n",
       " 'Response': 8835,\n",
       " 'Plan': 8155,\n",
       " 'b': 11951,\n",
       " 'con': 13011,\n",
       " 'tinued': 22477,\n",
       " 'educational': 14351,\n",
       " 'environments': 14749,\n",
       " 'returning': 20675,\n",
       " 'student': 21832,\n",
       " 'preprimary': 19546,\n",
       " 'lower': 17497,\n",
       " 'closures': 12721,\n",
       " 'assoc': 11812,\n",
       " 'iated': 16171,\n",
       " 'reopening': 20475,\n",
       " 'reentry': 20241,\n",
       " 'Mitigating': 6709,\n",
       " 'economy': 14316,\n",
       " 'housing': 16104,\n",
       " 'efforts': 14404,\n",
       " 'advance': 11195,\n",
       " 'inclusiv': 16414,\n",
       " 'Federal': 4177,\n",
       " 'Nigerias': 7120,\n",
       " 'safeguarding': 20900,\n",
       " 'revenues': 20687,\n",
       " 'nancing': 18143,\n",
       " 'reprioritizing': 20517,\n",
       " 'spending': 21554,\n",
       " 'expenditure': 15018,\n",
       " 'stability': 21603,\n",
       " 'temporary': 22248,\n",
       " 'impacted': 16309,\n",
       " 'pan': 18946,\n",
       " 'demic': 13742,\n",
       " 'institutional': 16711,\n",
       " 'build': 12261,\n",
       " 'er': 14793,\n",
       " 'regulations': 20345,\n",
       " 'rural': 20880,\n",
       " 'case': 12442,\n",
       " 'Area': 1441,\n",
       " 'capability': 12376,\n",
       " 'governments': 15754,\n",
       " 'coordinated': 13298,\n",
       " 'Improve': 5310,\n",
       " 'connectivity': 13106,\n",
       " 'climateresilient': 12707,\n",
       " 'transport': 22672,\n",
       " 'removal': 20453,\n",
       " 'testing': 22288,\n",
       " 'treatment': 22693,\n",
       " 'Strengthen': 9739,\n",
       " '3': 507,\n",
       " 'faster': 15176,\n",
       " 'econ': 14305,\n",
       " 'omic': 18635,\n",
       " 'fiscally': 15316,\n",
       " 'expansion': 14998,\n",
       " 'built': 12270,\n",
       " 'around': 11722,\n",
       " 'two': 22784,\n",
       " 'containing': 13205,\n",
       " 'operational': 18708,\n",
       " 'affordability': 11237,\n",
       " 'Uruguayan': 10530,\n",
       " 'National': 7057,\n",
       " 'Health': 4900,\n",
       " 'Integrated': 5404,\n",
       " 'Guatemala': 4731,\n",
       " 'key': 17092,\n",
       " 'retention': 20657,\n",
       " 'completion': 12966,\n",
       " 'outofschool': 18854,\n",
       " 'children': 12588,\n",
       " 'underserved': 22878,\n",
       " 'multiple': 18089,\n",
       " 'stakeholders': 21630,\n",
       " 'conflictsensitive': 13089,\n",
       " 'resourcebas': 20575,\n",
       " 'ed': 14335,\n",
       " 'planning': 19258,\n",
       " 'conflictrelated': 13087,\n",
       " 'analytical': 11447,\n",
       " 'community': 12883,\n",
       " 'decisionmak': 13637,\n",
       " 'nonrevenue': 18382,\n",
       " 'water': 23285,\n",
       " 'modernization': 17961,\n",
       " 'supply': 22001,\n",
       " 'sanitation': 20930,\n",
       " 'Recife': 8724,\n",
       " 'Metropolitan': 6645,\n",
       " 'Region': 8773,\n",
       " 'piloting': 19221,\n",
       " 'innovative': 16653,\n",
       " 'approaches': 11656,\n",
       " 'availability': 11919,\n",
       " 'postharvest': 19427,\n",
       " 'valuechains': 23108,\n",
       " 'Ukrainian': 10482,\n",
       " 'Railways': 8680,\n",
       " 'programmatic': 19734,\n",
       " 'sustain': 22057,\n",
       " 'following': 15396,\n",
       " 'establishing': 14858,\n",
       " 'security': 21065,\n",
       " 'drought': 14202,\n",
       " 'prone': 19803,\n",
       " 'syste': 22092,\n",
       " 'ms': 18059,\n",
       " 'early': 14264,\n",
       " 'warning': 23272,\n",
       " 'prearranged': 19491,\n",
       " 'introduce': 16883,\n",
       " 'road': 20786,\n",
       " 'apital': 11622,\n",
       " 'crashes': 13428,\n",
       " 'intergovernmental': 16816,\n",
       " 'transfer': 22623,\n",
       " 'mechanism': 17733,\n",
       " 'enhanced': 14651,\n",
       " 'log': 17462,\n",
       " 'istic': 16989,\n",
       " 'Tunisia': 10273,\n",
       " 'fou': 15498,\n",
       " 'ndation': 18202,\n",
       " 'strong': 21810,\n",
       " 'enabling': 14555,\n",
       " 'performance': 19128,\n",
       " 'SOE': 9158,\n",
       " 'Brazils': 2029,\n",
       " 'resource': 20574,\n",
       " 'transfers': 22628,\n",
       " 'digital': 13942,\n",
       " 'document': 14122,\n",
       " 'proposes': 19821,\n",
       " 'Policy': 8189,\n",
       " 'Financing': 4206,\n",
       " 'Niger’s': 7122,\n",
       " 'plan': 19250,\n",
       " 'COVID': 2406,\n",
       " '19': 253,\n",
       " 'sowing': 21506,\n",
       " 'seeds': 21075,\n",
       " 'flood': 15351,\n",
       " 'cities': 12636,\n",
       " 'Mekong': 6622,\n",
       " 'Delta': 3246,\n",
       " 'Nepal': 7082,\n",
       " 'diversify': 14106,\n",
       " 'natural': 18167,\n",
       " 'gas': 15627,\n",
       " 'Transmission': 10232,\n",
       " 'Operator': 7350,\n",
       " 'TSO': 10003,\n",
       " 'str': 21749,\n",
       " 'engthen': 14644,\n",
       " 'technical': 22204,\n",
       " 'local': 17438,\n",
       " 'serviced': 21194,\n",
       " 'elivery': 14471,\n",
       " 'villages': 23198,\n",
       " 'go': 15719,\n",
       " 'vernment': 23159,\n",
       " 'servicedelivery': 21196,\n",
       " 'provinces': 19864,\n",
       " 'eligible': 14466,\n",
       " 'Belizes': 1891,\n",
       " 'Protection': 8349,\n",
       " 'Contribute': 2836,\n",
       " 'government’s': 15760,\n",
       " 'instruments': 16742,\n",
       " 'enrollment': 14670,\n",
       " 'transition': 22646,\n",
       " 'year': 23482,\n",
       " 'Uruguay': 10529,\n",
       " 'socia': 21430,\n",
       " 'l': 17127,\n",
       " 'laying': 17219,\n",
       " 'First': 4209,\n",
       " 'initiates': 16625,\n",
       " 'three': 22403,\n",
       " 'main': 17554,\n",
       " 'purpo': 19930,\n",
       " 'DPOs': 3143,\n",
       " 'transformation': 22630,\n",
       " 'region': 20307,\n",
       " 'effective': 14374,\n",
       " 'regional': 20308,\n",
       " 'spatially': 21520,\n",
       " 'sectors': 21047,\n",
       " 'efficient': 14393,\n",
       " 'FONADIN': 4027,\n",
       " 'mobilize': 17941,\n",
       " 'commercial': 12828,\n",
       " 'finan': 15263,\n",
       " 'cial': 12610,\n",
       " 'landscape': 17172,\n",
       " 'agricultural': 11300,\n",
       " 'land': 17153,\n",
       " 'deforestation': 13691,\n",
       " 'hotspots': 16089,\n",
       " 'Northern': 7168,\n",
       " 'Andes': 1370,\n",
       " 'institutionalization': 16716,\n",
       " 'subnational': 21879,\n",
       " 'engagement': 14631,\n",
       " 'responsive': 20605,\n",
       " 'action': 11089,\n",
       " 'repair': 20480,\n",
       " 'roofs': 20819,\n",
       " 'standard': 21638,\n",
       " 'Hurricane': 4998,\n",
       " 'Irma': 5448,\n",
       " 'demonopolization': 13751,\n",
       " 'anticorruption': 11606,\n",
       " 'credit': 13445,\n",
       " 'markets': 17668,\n",
       " 'bolster': 12166,\n",
       " 'maintenance': 17568,\n",
       " 'Tamil': 10041,\n",
       " 'Nadus': 7023,\n",
       " 'logistics': 17469,\n",
       " 'instituti': 16707,\n",
       " 'onal': 18644,\n",
       " 'core': 13313,\n",
       " 'network': 18258,\n",
       " 'CRN': 2440,\n",
       " 'weather': 23317,\n",
       " 'forecasting': 15431,\n",
       " 'participating': 18997,\n",
       " 'countries': 13391,\n",
       " 'setting': 21214,\n",
       " 'meteorological': 17791,\n",
       " 'mode': 17948,\n",
       " 'lling': 17422,\n",
       " 'hydrological': 16143,\n",
       " 'modelling': 17951,\n",
       " 'river': 20764,\n",
       " 'catchments': 12468,\n",
       " 'dam': 13570,\n",
       " 'establishment': 14859,\n",
       " 'structure': 21825,\n",
       " 'Central': 2584,\n",
       " 'State': 9696,\n",
       " 'levels': 17306,\n",
       " 'Indonesia’s': 5354,\n",
       " 'trade': 22585,\n",
       " 'instit': 16700,\n",
       " 'utional': 23076,\n",
       " 'Santa': 9391,\n",
       " 'Catarina': 2566,\n",
       " 'regain': 20294,\n",
       " 'pro': 19647,\n",
       " 'mote': 18019,\n",
       " 'agriculture': 11302,\n",
       " 'crowd': 13489,\n",
       " 'affordable': 11238,\n",
       " 'farmer': 15161,\n",
       " 'incomes': 16423,\n",
       " 'create': 13434,\n",
       " 'space': 21509,\n",
       " 'iv': 17010,\n",
       " 'leverage': 17311,\n",
       " 'digitization': 13943,\n",
       " 'Croatia': 2922,\n",
       " 'broaden': 12235,\n",
       " 'assets': 11792,\n",
       " 'base': 11999,\n",
       " 'productivity': 19703,\n",
       " 'effectiveness': 14378,\n",
       " 'Odisha': 7311,\n",
       " 'citizens': 12644,\n",
       " 'disasters': 13996,\n",
       " 'West': 10774,\n",
       " 'Bengal': 1900,\n",
       " 'prot': 19831,\n",
       " 'ection': 14328,\n",
       " 'empowers': 14546,\n",
       " 'groups': 15831,\n",
       " 'Somalia': 9634,\n",
       " 'issue': 16982,\n",
       " 'legal': 17267,\n",
       " 'low': 17492,\n",
       " 'denomination': 13759,\n",
       " 'cur': 13522,\n",
       " 'rency': 20459,\n",
       " 'notes': 18416,\n",
       " 'replace': 20489,\n",
       " 'counterfeit': 13380,\n",
       " 'old': 18618,\n",
       " 'currently': 13533,\n",
       " 'circulation': 12629,\n",
       " 'ease': 14279,\n",
       " 'everyday': 14913,\n",
       " 'transactions': 22618,\n",
       " 'transaction': 22616,\n",
       " 'cos': 13344,\n",
       " 'lowincome': 17503,\n",
       " 'Borrower': 1999,\n",
       " 'industrial': 16504,\n",
       " 'pollution': 19347,\n",
       " 'Industrial': 5356,\n",
       " 'Enterprises': 3829,\n",
       " 'enforcement': 14625,\n",
       " 'capabilities': 12374,\n",
       " 'MOE': 6318,\n",
       " 'En': 3797,\n",
       " 'terprises': 22271,\n",
       " 'greater': 15796,\n",
       " 'flexibility': 15347,\n",
       " 'power': 19457,\n",
       " 'grid': 15807,\n",
       " 'keeping': 17085,\n",
       " 'EU': 3675,\n",
       " 'synchronization': 22083,\n",
       " 'requirements': 20527,\n",
       " 'Brazilian': 2028,\n",
       " 'reforming': 20275,\n",
       " 'Sistema': 9583,\n",
       " 'Único': 23550,\n",
       " 'de': 13604,\n",
       " 'Saúde': 9423,\n",
       " 'SUS': 9313,\n",
       " 'Primary': 8269,\n",
       " 'Care': 2542,\n",
       " 'PHC': 7643,\n",
       " 'organization': 18770,\n",
       " 'Costa': 2872,\n",
       " 'Ricas': 8866,\n",
       " 'people’s': 19112,\n",
       " 'mpact': 18047,\n",
       " 'enterprise': 14693,\n",
       " 'reinforce': 20374,\n",
       " 'postCOVID19': 19411,\n",
       " 'lowcarbon': 17494,\n",
       " 'PasigMarikina': 8041,\n",
       " 'River': 8884,\n",
       " 'Basin': 1850,\n",
       " 'finances': 15269,\n",
       " 'market': 17656,\n",
       " 'competition': 12934,\n",
       " 'Nor': 7156,\n",
       " 'Macedonia': 6435,\n",
       " 'program’s': 19742,\n",
       " 'commitment': 12847,\n",
       " 'control': 13262,\n",
       " 'line': 17372,\n",
       " 'ublic': 22806,\n",
       " 'practice': 19476,\n",
       " 'integrity': 16770,\n",
       " 'farmers': 15163,\n",
       " 'districts': 14092,\n",
       " 'irrigation': 16955,\n",
       " 'ransfers': 20032,\n",
       " 'CARCIP': 2117,\n",
       " 'broadband': 12232,\n",
       " 'networks': 18261,\n",
       " 'ICTenabled': 5049,\n",
       " 'industry': 16511,\n",
       " 'Caribbean': 2543,\n",
       " 'Credit': 2910,\n",
       " 'manag': 17589,\n",
       " 'ement': 14494,\n",
       " 'employment': 14538,\n",
       " 'Punjab’s': 8385,\n",
       " 'toward': 22566,\n",
       " 'managing': 17614,\n",
       " 'AgricultureWaterElectricity': 1268,\n",
       " 'nexus': 18277,\n",
       " 'resources': 20582,\n",
       " 'Attorney': 1524,\n",
       " 'Gen': 4531,\n",
       " 'eral’s': 14800,\n",
       " 'Office': 7315,\n",
       " 'Saint': 9350,\n",
       " 'Vincent': 10640,\n",
       " 'Grenadines': 4705,\n",
       " 'disaster': 13989,\n",
       " 'anagement': 11440,\n",
       " 'overarching': 18876,\n",
       " 'entrepreneurship': 14718,\n",
       " 'acc': 10976,\n",
       " 'ess': 14842,\n",
       " 'individuals': 16497,\n",
       " 'businesses': 12305,\n",
       " 'demonstrate': 13752,\n",
       " 'feasibility': 15189,\n",
       " 'renewable': 20462,\n",
       " 'RE': 8476,\n",
       " 'technologie': 22221,\n",
       " 'battery': 12016,\n",
       " 'storage': 21737,\n",
       " 'BESS': 1645,\n",
       " 'gender': 15649,\n",
       " 'disaggregated': 13983,\n",
       " 'statistics': 21687,\n",
       " 'GSO’s': 4475,\n",
       " 'implement': 16321,\n",
       " 'time': 22461,\n",
       " 'survey': 22041,\n",
       " 'years': 23487,\n",
       " 'Enhancing': 3822,\n",
       " 'targetted': 22167,\n",
       " 'propoor': 19813,\n",
       " 'decentralized': 13629,\n",
       " 'refugees': 20289,\n",
       " 'Turkey': 10281,\n",
       " 'Haiti': 4871,\n",
       " 'current': 13531,\n",
       " 'outbr': 18832,\n",
       " 'eak': 14258,\n",
       " 'hazards': 15932,\n",
       " 'healthrelated': 15950,\n",
       " 'second': 21016,\n",
       " 'GoM’s': 4603,\n",
       " 'prioritize': 19623,\n",
       " 'ive': 17017,\n",
       " 'women': 23423,\n",
       " 'predictable': 19506,\n",
       " 'increased': 16442,\n",
       " 'value': 23102,\n",
       " 'fisheries': 15322,\n",
       " 'investing': 16904,\n",
       " '‘smart’': 23607,\n",
       " 'Sint': 9582,\n",
       " 'Maarten': 6431,\n",
       " 'domestic': 14134,\n",
       " 'mobilization': 17940,\n",
       " 'insurance': 16746,\n",
       " 'boosting': 12175,\n",
       " 'western': 23349,\n",
       " 'eastern': 14285,\n",
       " 'parts': 19025,\n",
       " 'hance': 15896,\n",
       " 'wage': 23253,\n",
       " 'bill': 12101,\n",
       " 'pension': 19104,\n",
       " 'deficit': 13681,\n",
       " 'States': 9705,\n",
       " 'strategic': 21756,\n",
       " 'financ': 15264,\n",
       " 'WAEMU': 10668,\n",
       " 'vulnerability': 23248,\n",
       " 'international': 16843,\n",
       " 'oil': 18611,\n",
       " 'price': 19596,\n",
       " 'fluctuations': 15369,\n",
       " 'electr': 14447,\n",
       " 'icity': 16190,\n",
       " 'six': 21362,\n",
       " 'readiness': 20087,\n",
       " 'air': 11347,\n",
       " 'transportation': 22673,\n",
       " 'agencies': 11260,\n",
       " 'airport': 11352,\n",
       " 'privat': 19632,\n",
       " 'postcr': 19421,\n",
       " 'isis': 16969,\n",
       " 'practices': 19479,\n",
       " 'chains': 12533,\n",
       " 'formulation': 15473,\n",
       " 'results': 20640,\n",
       " 'analyt': 11445,\n",
       " 'ical': 16178,\n",
       " 'assistance': 11803,\n",
       " 'strategies': 21760,\n",
       " ...}"
      ]
     },
     "execution_count": 47,
     "metadata": {},
     "output_type": "execute_result"
    }
   ],
   "source": [
    "bow_transformer = CountVectorizer(analyzer = text_process).fit(train[\"Project_Objective\"])\n",
    "bow_transformer.vocabulary_"
   ]
  },
  {
   "cell_type": "code",
   "execution_count": 48,
   "id": "3a4e4ec6",
   "metadata": {},
   "outputs": [
    {
     "data": {
      "text/plain": [
       "23636"
      ]
     },
     "execution_count": 48,
     "metadata": {},
     "output_type": "execute_result"
    }
   ],
   "source": [
    "len(bow_transformer.vocabulary_)"
   ]
  },
  {
   "cell_type": "code",
   "execution_count": 49,
   "id": "c870a873",
   "metadata": {},
   "outputs": [],
   "source": [
    "mess_bow = bow_transformer.transform(train[\"Project_Objective\"])"
   ]
  },
  {
   "cell_type": "code",
   "execution_count": 50,
   "id": "ff584f70",
   "metadata": {},
   "outputs": [
    {
     "data": {
      "text/plain": [
       "scipy.sparse.csr.csr_matrix"
      ]
     },
     "execution_count": 50,
     "metadata": {},
     "output_type": "execute_result"
    }
   ],
   "source": [
    "type(mess_bow)"
   ]
  },
  {
   "cell_type": "code",
   "execution_count": 51,
   "id": "36e665ab",
   "metadata": {},
   "outputs": [
    {
     "data": {
      "text/plain": [
       "(7600, 23636)"
      ]
     },
     "execution_count": 51,
     "metadata": {},
     "output_type": "execute_result"
    }
   ],
   "source": [
    "mess_bow.shape\n"
   ]
  },
  {
   "cell_type": "code",
   "execution_count": 52,
   "id": "074da03c",
   "metadata": {},
   "outputs": [],
   "source": [
    "from sklearn.feature_extraction.text import TfidfTransformer"
   ]
  },
  {
   "cell_type": "code",
   "execution_count": 53,
   "id": "c2c23336",
   "metadata": {},
   "outputs": [],
   "source": [
    "TT  = TfidfTransformer()"
   ]
  },
  {
   "cell_type": "code",
   "execution_count": 54,
   "id": "7d0cd7dc",
   "metadata": {},
   "outputs": [
    {
     "data": {
      "text/plain": [
       "TfidfTransformer()"
      ]
     },
     "execution_count": 54,
     "metadata": {},
     "output_type": "execute_result"
    }
   ],
   "source": [
    "TT.fit(mess_bow)"
   ]
  },
  {
   "cell_type": "code",
   "execution_count": 55,
   "id": "0aab03d8",
   "metadata": {},
   "outputs": [
    {
     "data": {
      "text/plain": [
       "<7600x23636 sparse matrix of type '<class 'numpy.float64'>'\n",
       "\twith 261547 stored elements in Compressed Sparse Row format>"
      ]
     },
     "execution_count": 55,
     "metadata": {},
     "output_type": "execute_result"
    }
   ],
   "source": [
    "TT_mess = TT.transform(mess_bow)\n",
    "TT_mess"
   ]
  },
  {
   "cell_type": "code",
   "execution_count": 56,
   "id": "01258623",
   "metadata": {},
   "outputs": [],
   "source": [
    "train.Project_Status = le.fit_transform(train.Project_Status)\n"
   ]
  },
  {
   "cell_type": "code",
   "execution_count": 80,
   "id": "22695227",
   "metadata": {},
   "outputs": [
    {
     "data": {
      "text/plain": [
       "0    6500\n",
       "1    1100\n",
       "Name: Project_Status, dtype: int64"
      ]
     },
     "execution_count": 80,
     "metadata": {},
     "output_type": "execute_result"
    }
   ],
   "source": [
    "train.Project_Status.value_counts()"
   ]
  },
  {
   "cell_type": "code",
   "execution_count": 58,
   "id": "20f9c660",
   "metadata": {},
   "outputs": [],
   "source": [
    "from sklearn.linear_model import LogisticRegression \n",
    "lm = LogisticRegression()\n",
    "from sklearn.metrics import confusion_matrix\n",
    "from sklearn.metrics import classification_report"
   ]
  },
  {
   "cell_type": "code",
   "execution_count": 59,
   "id": "f82b57d5",
   "metadata": {},
   "outputs": [
    {
     "data": {
      "text/plain": [
       "LogisticRegression()"
      ]
     },
     "execution_count": 59,
     "metadata": {},
     "output_type": "execute_result"
    }
   ],
   "source": [
    "lm.fit(TT_mess,train.Project_Status)"
   ]
  },
  {
   "cell_type": "code",
   "execution_count": 60,
   "id": "838e1e97",
   "metadata": {},
   "outputs": [],
   "source": [
    "pred1 = lm.predict(TT_mess)"
   ]
  },
  {
   "cell_type": "code",
   "execution_count": 61,
   "id": "acf0409d",
   "metadata": {},
   "outputs": [
    {
     "data": {
      "text/plain": [
       "array([[6479,  940],\n",
       "       [  21,  160]], dtype=int64)"
      ]
     },
     "execution_count": 61,
     "metadata": {},
     "output_type": "execute_result"
    }
   ],
   "source": [
    "cf = confusion_matrix(pred1,train.Project_Status)\n",
    "cf"
   ]
  },
  {
   "cell_type": "code",
   "execution_count": 143,
   "id": "61270523",
   "metadata": {},
   "outputs": [
    {
     "data": {
      "text/plain": [
       "87.35526315789474"
      ]
     },
     "execution_count": 143,
     "metadata": {},
     "output_type": "execute_result"
    }
   ],
   "source": [
    "acc = cf.diagonal().sum()/cf.sum()*100\n",
    "acc"
   ]
  },
  {
   "cell_type": "code",
   "execution_count": 63,
   "id": "6a438008",
   "metadata": {},
   "outputs": [
    {
     "name": "stdout",
     "output_type": "stream",
     "text": [
      "              precision    recall  f1-score   support\n",
      "\n",
      "           0       1.00      0.87      0.93      7419\n",
      "           1       0.15      0.88      0.25       181\n",
      "\n",
      "    accuracy                           0.87      7600\n",
      "   macro avg       0.57      0.88      0.59      7600\n",
      "weighted avg       0.98      0.87      0.91      7600\n",
      "\n"
     ]
    }
   ],
   "source": [
    "print(classification_report(pred1,train.Project_Status))"
   ]
  },
  {
   "cell_type": "code",
   "execution_count": 81,
   "id": "fbfe48d5",
   "metadata": {},
   "outputs": [],
   "source": [
    "from sklearn import metrics\n",
    "def plotAUC(truth, pred, lab):\n",
    "    fpr, tpr, _ = metrics.roc_curve(truth,pred)\n",
    "    roc_auc = metrics.auc(fpr, tpr)\n",
    "    lw = 2\n",
    "    c = (np.random.rand(), np.random.rand(), np.random.rand())\n",
    "    plt.plot(fpr, tpr, color= c,lw=lw, label= lab +'(AUC = %0.2f)' % roc_auc)\n",
    "    plt.plot([0, 1], [0, 1], color='navy', lw=lw, linestyle='--')\n",
    "    plt.xlim([0.0, 1.0])\n",
    "    plt.ylim([0.0, 1.0])\n",
    "    plt.xlabel('False Positive Rate')\n",
    "    plt.ylabel('True Positive Rate')\n",
    "    plt.title('ROC curve') #Receiver Operating Characteristic \n",
    "    plt.legend(loc=\"lower right\")"
   ]
  },
  {
   "cell_type": "code",
   "execution_count": 82,
   "id": "ecce7303",
   "metadata": {},
   "outputs": [
    {
     "data": {
      "image/png": "[encoded data removed]",
      "text/plain": [
       "<Figure size 432x288 with 1 Axes>"
      ]
     },
     "metadata": {
      "needs_background": "light"
     },
     "output_type": "display_data"
    },
    {
     "data": {
      "text/plain": [
       "<Figure size 432x432 with 0 Axes>"
      ]
     },
     "execution_count": 82,
     "metadata": {},
     "output_type": "execute_result"
    },
    {
     "data": {
      "text/plain": [
       "<Figure size 432x432 with 0 Axes>"
      ]
     },
     "metadata": {},
     "output_type": "display_data"
    }
   ],
   "source": [
    "plotAUC(train.Project_Status,pred1,\"lm\")\n",
    "plt.show()\n",
    "plt.figure(figsize  =(6,6))"
   ]
  },
  {
   "cell_type": "code",
   "execution_count": 64,
   "id": "50bd4fe8",
   "metadata": {},
   "outputs": [],
   "source": [
    "from sklearn.ensemble import RandomForestClassifier\n",
    "rf = RandomForestClassifier()"
   ]
  },
  {
   "cell_type": "code",
   "execution_count": 65,
   "id": "942919c4",
   "metadata": {},
   "outputs": [
    {
     "data": {
      "text/plain": [
       "RandomForestClassifier()"
      ]
     },
     "execution_count": 65,
     "metadata": {},
     "output_type": "execute_result"
    }
   ],
   "source": [
    "rf.fit(TT_mess,train.Project_Status)"
   ]
  },
  {
   "cell_type": "code",
   "execution_count": 67,
   "id": "14ef9792",
   "metadata": {},
   "outputs": [],
   "source": [
    "pred2 = rf.predict(TT_mess)"
   ]
  },
  {
   "cell_type": "code",
   "execution_count": 68,
   "id": "e2137f97",
   "metadata": {},
   "outputs": [
    {
     "data": {
      "text/plain": [
       "array([[6498,   15],\n",
       "       [   2, 1085]], dtype=int64)"
      ]
     },
     "execution_count": 68,
     "metadata": {},
     "output_type": "execute_result"
    }
   ],
   "source": [
    "cf1 = confusion_matrix(pred2,train.Project_Status)\n",
    "cf1"
   ]
  },
  {
   "cell_type": "code",
   "execution_count": 69,
   "id": "454d5fd1",
   "metadata": {},
   "outputs": [
    {
     "data": {
      "text/plain": [
       "99.77631578947368"
      ]
     },
     "execution_count": 69,
     "metadata": {},
     "output_type": "execute_result"
    }
   ],
   "source": [
    "acc1 = cf1.diagonal().sum()/cf1.sum()*100\n",
    "acc1"
   ]
  },
  {
   "cell_type": "code",
   "execution_count": 70,
   "id": "6d3da2e4",
   "metadata": {},
   "outputs": [
    {
     "name": "stdout",
     "output_type": "stream",
     "text": [
      "              precision    recall  f1-score   support\n",
      "\n",
      "           0       1.00      1.00      1.00      6513\n",
      "           1       0.99      1.00      0.99      1087\n",
      "\n",
      "    accuracy                           1.00      7600\n",
      "   macro avg       0.99      1.00      1.00      7600\n",
      "weighted avg       1.00      1.00      1.00      7600\n",
      "\n"
     ]
    }
   ],
   "source": [
    "print(classification_report(pred2,train.Project_Status))"
   ]
  },
  {
   "cell_type": "code",
   "execution_count": 83,
   "id": "c533e7fe",
   "metadata": {},
   "outputs": [
    {
     "data": {
      "image/png": "[encoded data removed]",
      "text/plain": [
       "<Figure size 432x288 with 1 Axes>"
      ]
     },
     "metadata": {
      "needs_background": "light"
     },
     "output_type": "display_data"
    },
    {
     "data": {
      "text/plain": [
       "<Figure size 432x432 with 0 Axes>"
      ]
     },
     "execution_count": 83,
     "metadata": {},
     "output_type": "execute_result"
    },
    {
     "data": {
      "text/plain": [
       "<Figure size 432x432 with 0 Axes>"
      ]
     },
     "metadata": {},
     "output_type": "display_data"
    }
   ],
   "source": [
    "plotAUC(train.Project_Status,pred2,\"rf\")\n",
    "plt.show()\n",
    "plt.figure(figsize  =(6,6))"
   ]
  },
  {
   "cell_type": "code",
   "execution_count": 71,
   "id": "6fe937be",
   "metadata": {},
   "outputs": [],
   "source": [
    "from sklearn.naive_bayes import MultinomialNB\n",
    "nb = MultinomialNB()"
   ]
  },
  {
   "cell_type": "code",
   "execution_count": 72,
   "id": "83e1ddac",
   "metadata": {},
   "outputs": [
    {
     "data": {
      "text/plain": [
       "MultinomialNB()"
      ]
     },
     "execution_count": 72,
     "metadata": {},
     "output_type": "execute_result"
    }
   ],
   "source": [
    "nb.fit(TT_mess,train.Project_Status)"
   ]
  },
  {
   "cell_type": "code",
   "execution_count": 73,
   "id": "d5cee9c3",
   "metadata": {},
   "outputs": [],
   "source": [
    "pred3 = nb.predict(TT_mess)"
   ]
  },
  {
   "cell_type": "code",
   "execution_count": 74,
   "id": "7a86ddde",
   "metadata": {},
   "outputs": [
    {
     "data": {
      "text/plain": [
       "array([[6447,  943],\n",
       "       [  53,  157]], dtype=int64)"
      ]
     },
     "execution_count": 74,
     "metadata": {},
     "output_type": "execute_result"
    }
   ],
   "source": [
    "cf2 = confusion_matrix(pred3,train.Project_Status)\n",
    "cf2"
   ]
  },
  {
   "cell_type": "code",
   "execution_count": 75,
   "id": "0dcec172",
   "metadata": {},
   "outputs": [
    {
     "data": {
      "text/plain": [
       "86.89473684210526"
      ]
     },
     "execution_count": 75,
     "metadata": {},
     "output_type": "execute_result"
    }
   ],
   "source": [
    "acc2 = cf2.diagonal().sum()/cf2.sum()*100\n",
    "acc2"
   ]
  },
  {
   "cell_type": "code",
   "execution_count": 76,
   "id": "9952efc7",
   "metadata": {},
   "outputs": [
    {
     "name": "stdout",
     "output_type": "stream",
     "text": [
      "              precision    recall  f1-score   support\n",
      "\n",
      "           0       0.99      0.87      0.93      7390\n",
      "           1       0.14      0.75      0.24       210\n",
      "\n",
      "    accuracy                           0.87      7600\n",
      "   macro avg       0.57      0.81      0.58      7600\n",
      "weighted avg       0.97      0.87      0.91      7600\n",
      "\n"
     ]
    }
   ],
   "source": [
    "print(classification_report(pred3,train.Project_Status))"
   ]
  },
  {
   "cell_type": "code",
   "execution_count": 84,
   "id": "fa37f4b9",
   "metadata": {},
   "outputs": [
    {
     "data": {
      "image/png": "[encoded data removed]",
      "text/plain": [
       "<Figure size 432x288 with 1 Axes>"
      ]
     },
     "metadata": {
      "needs_background": "light"
     },
     "output_type": "display_data"
    },
    {
     "data": {
      "text/plain": [
       "<Figure size 432x432 with 0 Axes>"
      ]
     },
     "execution_count": 84,
     "metadata": {},
     "output_type": "execute_result"
    },
    {
     "data": {
      "text/plain": [
       "<Figure size 432x432 with 0 Axes>"
      ]
     },
     "metadata": {},
     "output_type": "display_data"
    }
   ],
   "source": [
    "plotAUC(train.Project_Status,pred3,\"nb\")\n",
    "plt.show()\n",
    "plt.figure(figsize  =(6,6))"
   ]
  }
 ],
 "metadata": {
  "kernelspec": {
   "display_name": "Python 3 (ipykernel)",
   "language": "python",
   "name": "python3"
  },
  "language_info": {
   "codemirror_mode": {
    "name": "ipython",
    "version": 3
   },
   "file_extension": ".py",
   "mimetype": "text/x-python",
   "name": "python",
   "nbconvert_exporter": "python",
   "pygments_lexer": "ipython3",
   "version": "3.9.7"
  }
 },
 "nbformat": 4,
 "nbformat_minor": 5
}
